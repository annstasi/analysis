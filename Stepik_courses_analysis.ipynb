{
 "cells": [
  {
   "cell_type": "markdown",
   "id": "85063035",
   "metadata": {},
   "source": [
    "## Анализ проходимости курса \"Введение в анализ данных на R\". \n",
    "Задание по курсу \"Введение в Data Science и машинное обучение\""
   ]
  },
  {
   "cell_type": "markdown",
   "id": "84596846",
   "metadata": {},
   "source": [
    "Описание данных:  \n",
    "events_train.csv - данные о действиях, которые совершают студенты со стэпами  \n",
    "1. step_id - id стэпа \n",
    "2. user_id - анонимизированный id юзера  \n",
    "3. timestamp - время наступления события в формате unix date\n",
    "4. action - событие, возможные значения: \n",
    "* discovered - пользователь перешел на стэп  \n",
    "* viewed - просмотр шага\n",
    "* started_attempt - начало попытки решить шаг, ранее нужно было явно нажать на кнопку - начать решение, перед тем как приступить к решению практического шага\n",
    "* passed - удачное решение практического шага  \n",
    "\n",
    "submissions_train.csv - данные о времени и статусах сабмитов к практическим заданиям\n",
    "1. step_id - id стэпа\n",
    "2. timestamp - время отправки решения в формате unix date\n",
    "3. submission_status - статус решения\n",
    "4. user_id - анонимизированный id юзера"
   ]
  },
  {
   "cell_type": "code",
   "execution_count": null,
   "id": "fd5b8105",
   "metadata": {},
   "outputs": [],
   "source": []
  }
 ],
 "metadata": {
  "kernelspec": {
   "display_name": "Python 3 (ipykernel)",
   "language": "python",
   "name": "python3"
  },
  "language_info": {
   "codemirror_mode": {
    "name": "ipython",
    "version": 3
   },
   "file_extension": ".py",
   "mimetype": "text/x-python",
   "name": "python",
   "nbconvert_exporter": "python",
   "pygments_lexer": "ipython3",
   "version": "3.9.13"
  }
 },
 "nbformat": 4,
 "nbformat_minor": 5
}
